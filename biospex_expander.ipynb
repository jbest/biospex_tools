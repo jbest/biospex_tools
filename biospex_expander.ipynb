{
 "cells": [
  {
   "cell_type": "code",
   "execution_count": 1,
   "metadata": {},
   "outputs": [],
   "source": [
    "# Used to expand the occurrence values in a Biospex record export.\n",
    "# The occurrence values are stored in a JSON string in the export"
   ]
  },
  {
   "cell_type": "code",
   "execution_count": 1,
   "metadata": {},
   "outputs": [],
   "source": [
    "import pandas as pd\n",
    "import json\n",
    "pd.set_option('display.max_columns', 10)\n",
    "pd.set_option('display.max_colwidth', None)"
   ]
  },
  {
   "cell_type": "code",
   "execution_count": 16,
   "metadata": {},
   "outputs": [
    {
     "data": {
      "text/plain": [
       "(10338, 24)"
      ]
     },
     "execution_count": 16,
     "metadata": {},
     "output_type": "execute_result"
    }
   ],
   "source": [
    "# load the subject records from a Biospex export\n",
    "df_subjects = pd.read_csv(\"biospex_export.csv\", low_memory=False)\n",
    "df_subjects.shape"
   ]
  },
  {
   "cell_type": "code",
   "execution_count": 17,
   "metadata": {},
   "outputs": [],
   "source": [
    "# Get a sample record to extract occurrence keys\n",
    "ds_sample = df_subjects.iloc[0]\n",
    "occurrence_sample_json = ds_sample['occurrence']\n",
    "occurrence_sample = json.loads(occurrence_sample_json)"
   ]
  },
  {
   "cell_type": "code",
   "execution_count": 22,
   "metadata": {},
   "outputs": [],
   "source": [
    "# There's probably a slick, fast way to do this in pandas without repeatedly \n",
    "# loading and parsing the JSON for each key, but I don't know how.\n",
    "for key in occurrence_sample:\n",
    "    occurrence_key_name = 'occurrence_' + key\n",
    "    # extract values from occurrence column JSON\n",
    "    df_subjects[occurrence_key_name] = [json.loads(x)[key] for x in df_subjects['occurrence']]"
   ]
  },
  {
   "cell_type": "code",
   "execution_count": 23,
   "metadata": {},
   "outputs": [
    {
     "data": {
      "text/plain": [
       "(10338, 116)"
      ]
     },
     "execution_count": 23,
     "metadata": {},
     "output_type": "execute_result"
    }
   ],
   "source": [
    "df_subjects.shape"
   ]
  },
  {
   "cell_type": "code",
   "execution_count": 24,
   "metadata": {},
   "outputs": [],
   "source": [
    "df_subjects.to_csv('biospex_expanded.csv', index=False)"
   ]
  }
 ],
 "metadata": {
  "kernelspec": {
   "display_name": "Python 3",
   "language": "python",
   "name": "python3"
  },
  "language_info": {
   "codemirror_mode": {
    "name": "ipython",
    "version": 3
   },
   "file_extension": ".py",
   "mimetype": "text/x-python",
   "name": "python",
   "nbconvert_exporter": "python",
   "pygments_lexer": "ipython3",
   "version": "3.8.6"
  }
 },
 "nbformat": 4,
 "nbformat_minor": 4
}
